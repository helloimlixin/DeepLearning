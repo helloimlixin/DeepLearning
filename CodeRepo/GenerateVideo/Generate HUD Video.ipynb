{
 "cells": [
  {
   "cell_type": "code",
   "execution_count": 59,
   "metadata": {},
   "outputs": [],
   "source": [
    "import cv2\n",
    "import numpy as np\n",
    "from cv2 import VideoWriter, VideoWriter_fourcc"
   ]
  },
  {
   "cell_type": "code",
   "execution_count": 60,
   "metadata": {},
   "outputs": [
    {
     "name": "stdout",
     "output_type": "stream",
     "text": [
      "(171, 88, 4)\n",
      "(293, 143, 4)\n"
     ]
    },
    {
     "data": {
      "text/plain": [
       "True"
      ]
     },
     "execution_count": 60,
     "metadata": {},
     "output_type": "execute_result"
    }
   ],
   "source": [
    "background_color = 120\n",
    "R = background_color\n",
    "G = background_color\n",
    "B = background_color\n",
    "A = background_color\n",
    "background = [R, G, B, A]\n",
    "frame = cv2.imread('white_background.jpg', cv2.IMREAD_UNCHANGED)\n",
    "frame = cv2.cvtColor(frame, cv2.COLOR_RGB2RGBA)\n",
    "car = cv2.imread('car.png', cv2.IMREAD_UNCHANGED)\n",
    "car_mask = car[:,:,3] == 0\n",
    "car[car_mask] = background\n",
    "bus = cv2.imread('bus.png', cv2.IMREAD_UNCHANGED)\n",
    "bus_mask = bus[:,:,3] == 0\n",
    "bus[bus_mask] = background\n",
    "car2 = car\n",
    "print(car.shape)\n",
    "print(bus.shape)\n",
    "x_offset_car = 460\n",
    "y_offset_car = 400\n",
    "x_offset_bus = 750\n",
    "y_offset_bus = 20\n",
    "x_offset_car2 = 150\n",
    "y_offset_car2 = 20\n",
    "frame[y_offset_car:y_offset_car+car.shape[0], x_offset_car:x_offset_car+car.shape[1]] = car\n",
    "frame[y_offset_bus:y_offset_bus+bus.shape[0], x_offset_bus:x_offset_bus+bus.shape[1]] = bus\n",
    "frame[y_offset_car2:y_offset_car2+car2.shape[0], x_offset_car2:x_offset_car2+car2.shape[1]] = car2\n",
    "cv2.imwrite(\"Generated_frame.png\", frame)"
   ]
  },
  {
   "cell_type": "code",
   "execution_count": 61,
   "metadata": {},
   "outputs": [],
   "source": [
    "# Initialize video parameters\n",
    "width = 1024\n",
    "height = 600\n",
    "FPS = 30\n",
    "seconds = 20\n",
    "initial_y_offset = 400\n",
    "in_frame = True\n",
    "boundary = 10\n",
    "bus_remain = bus.shape[0]\n",
    "car2_remain = car2.shape[0]\n",
    "lane_thickness = 10\n",
    "left_lane = 350\n",
    "right_lane = 660\n",
    "# Relative speed data.\n",
    "bus_speed = 2\n",
    "car_speed = 1"
   ]
  },
  {
   "cell_type": "code",
   "execution_count": 62,
   "metadata": {},
   "outputs": [],
   "source": [
    "fourcc = VideoWriter_fourcc(*'MP42')\n",
    "video = VideoWriter('./HUD.mp4', fourcc, float(FPS), (width, height))\n",
    "for _ in range(FPS * seconds):\n",
    "    frame.fill(background_color) # generate new white background\n",
    "    cv2.line(frame, (left_lane, 0), (left_lane, height), (255,255,255), lane_thickness)\n",
    "    cv2.line(frame, (right_lane, 0), (right_lane, height), (255,255,255), lane_thickness)\n",
    "    cv2.line(frame, (40, 0), (40, height), (50,50,50), 20)\n",
    "    cv2.line(frame, (980, 0), (980, height), (50,50,50), 20)\n",
    "    car = car\n",
    "    bus = bus\n",
    "    car2 = car2\n",
    "    bus_tail = height - (bus.shape[0] + boundary)\n",
    "    car2_tail = height - (car2.shape[0] + boundary)\n",
    "    y_offset_car2 += car_speed\n",
    "    y_offset_bus += bus_speed\n",
    "    if (y_offset_bus >= bus_tail and bus_remain > 0):\n",
    "        bus_remain = (height - y_offset_bus) - boundary\n",
    "    if (y_offset_car2 >= car2_tail and car2_remain > 0):\n",
    "        car2_remain = (height - y_offset_car2) - boundary\n",
    "    frame[y_offset_bus:y_offset_bus+bus_remain, x_offset_bus:x_offset_bus+bus.shape[1]] = bus[0:bus_remain,:]\n",
    "    frame[y_offset_car2:y_offset_car2+car2_remain, x_offset_car2:x_offset_car2+car2.shape[1]] = car2[0:car2_remain,:]\n",
    "    frame[y_offset_car:y_offset_car+car.shape[0], x_offset_car:x_offset_car+car.shape[1]] = car\n",
    "    video.write(frame)\n",
    "video.release()"
   ]
  },
  {
   "cell_type": "code",
   "execution_count": 63,
   "metadata": {},
   "outputs": [],
   "source": [
    "'''\n",
    "Utility class for file conversion.\n",
    "'''\n",
    "import imageio\n",
    "import os, sys\n",
    "imageio.plugins.ffmpeg.download()\n",
    "\n",
    "class TargetFormat(object):\n",
    "    GIF = \".gif\"\n",
    "    MP4 = \".mp4\"\n",
    "    AVI = \".avi\"\n",
    "    \n",
    "def convert(input_path, target_format):\n",
    "    output_path = os.path.splitext(input_path)[0] + target_format\n",
    "    print(\"Converting\\r\\n\\t{0}\\r\\nto\\r\\n\\t{1}\".format(input_path, output_path))\n",
    "    reader = imageio.get_reader(input_path)\n",
    "    fps = reader.get_meta_data()['fps']\n",
    "    \n",
    "    writer = imageio.get_writer(output_path, fps=fps)\n",
    "    for i, frame in enumerate(reader):\n",
    "        if (i < 80):\n",
    "            sys.stdout.write(\"\\rframe {0}\".format(i))\n",
    "            sys.stdout.flush()\n",
    "            writer.append_data(frame)\n",
    "    print(\"\\r\\nFinalizing...\")\n",
    "    writer.close()\n",
    "    print(\"Done.\")"
   ]
  },
  {
   "cell_type": "code",
   "execution_count": 64,
   "metadata": {},
   "outputs": [
    {
     "name": "stdout",
     "output_type": "stream",
     "text": [
      "Converting\n",
      "\t./HUD.mp4\n",
      "to\n",
      "\t./HUD.gif\n",
      "frame 79\n",
      "Finalizing...\n",
      "Done.\n"
     ]
    }
   ],
   "source": [
    "# Generate GIF for README.md demo.\n",
    "convert(\"./HUD.mp4\", TargetFormat.GIF)"
   ]
  },
  {
   "cell_type": "code",
   "execution_count": null,
   "metadata": {},
   "outputs": [],
   "source": []
  }
 ],
 "metadata": {
  "kernelspec": {
   "display_name": "Python 3",
   "language": "python",
   "name": "python3"
  },
  "language_info": {
   "codemirror_mode": {
    "name": "ipython",
    "version": 3
   },
   "file_extension": ".py",
   "mimetype": "text/x-python",
   "name": "python",
   "nbconvert_exporter": "python",
   "pygments_lexer": "ipython3",
   "version": "3.7.1"
  }
 },
 "nbformat": 4,
 "nbformat_minor": 2
}
