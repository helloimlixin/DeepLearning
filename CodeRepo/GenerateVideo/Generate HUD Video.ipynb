{
 "cells": [
  {
   "cell_type": "code",
   "execution_count": 429,
   "metadata": {},
   "outputs": [],
   "source": [
    "import cv2\n",
    "import numpy as np\n",
    "from cv2 import VideoWriter, VideoWriter_fourcc"
   ]
  },
  {
   "cell_type": "code",
   "execution_count": 433,
   "metadata": {},
   "outputs": [
    {
     "data": {
      "text/plain": [
       "True"
      ]
     },
     "execution_count": 433,
     "metadata": {},
     "output_type": "execute_result"
    }
   ],
   "source": [
    "frame = cv2.imread(filename='white_background.jpg')\n",
    "car = cv2.imread(filename='car.png')\n",
    "car = cv2.resize(car,(100,200))\n",
    "bus = cv2.imread(filename='bus.png')\n",
    "bus = cv2.resize(bus,(180,350))\n",
    "car2 = cv2.imread(filename='car2.png')\n",
    "car2 = cv2.resize(car2,(100,200))\n",
    "x_offset_car = 450\n",
    "y_offset_car = 400\n",
    "x_offset_bus = 750\n",
    "y_offset_bus = 200\n",
    "x_offset_car2 = 150\n",
    "y_offset_car2 = 400\n",
    "frame[y_offset_car:y_offset_car+car.shape[0], x_offset_car:x_offset_car+car.shape[1]] = car\n",
    "frame[y_offset_bus:y_offset_bus+bus.shape[0], x_offset_bus:x_offset_bus+bus.shape[1]] = bus\n",
    "frame[y_offset_car2:y_offset_car2+car2.shape[0], x_offset_car2:x_offset_car2+car2.shape[1]] = car2\n",
    "cv2.imwrite(\"Generated_frame.png\", frame)"
   ]
  },
  {
   "cell_type": "code",
   "execution_count": 434,
   "metadata": {},
   "outputs": [],
   "source": [
    "# Initialize video parameters\n",
    "width = 1024\n",
    "height = 600\n",
    "FPS = 30\n",
    "seconds = 30\n",
    "initial_y_offset = 400\n",
    "in_frame = True\n",
    "boundary = 50"
   ]
  },
  {
   "cell_type": "code",
   "execution_count": 435,
   "metadata": {},
   "outputs": [],
   "source": [
    "fourcc = VideoWriter_fourcc(*'MP42')\n",
    "video = VideoWriter('./HUD.mp4', fourcc, float(FPS), (width, height))\n",
    "background = cv2.imread(filename='white_background.jpg')\n",
    "frame = background\n",
    "for _ in range(FPS * seconds):\n",
    "    frame.fill(255) # generate new white background\n",
    "    car = car\n",
    "    bus = bus\n",
    "    car2 = car2\n",
    "    if (y_offset_car > boundary and y_offset_bus > boundary and y_offset_car2 > boundary):\n",
    "        y_offset_car -= 4\n",
    "        frame[y_offset_car:y_offset_car+car.shape[0], x_offset_car:x_offset_car+car.shape[1]] = car\n",
    "        if (in_frame):\n",
    "            y_offset_bus -= 2\n",
    "            y_offset_car2 -= 3\n",
    "            frame[y_offset_bus:y_offset_bus+bus.shape[0], x_offset_bus:x_offset_bus+bus.shape[1]] = bus\n",
    "            frame[y_offset_car2:y_offset_car2+car2.shape[0], x_offset_car2:x_offset_car2+car2.shape[1]] = car2\n",
    "    elif (y_offset_car <= boundary):\n",
    "        y_offset_car = initial_y_offset\n",
    "        frame[y_offset_car:y_offset_car+car.shape[0], x_offset_car:x_offset_car+car.shape[1]] = car\n",
    "        in_frame = False\n",
    "    video.write(frame)\n",
    "video.release()"
   ]
  },
  {
   "cell_type": "code",
   "execution_count": null,
   "metadata": {},
   "outputs": [],
   "source": []
  }
 ],
 "metadata": {
  "kernelspec": {
   "display_name": "Python 3",
   "language": "python",
   "name": "python3"
  },
  "language_info": {
   "codemirror_mode": {
    "name": "ipython",
    "version": 3
   },
   "file_extension": ".py",
   "mimetype": "text/x-python",
   "name": "python",
   "nbconvert_exporter": "python",
   "pygments_lexer": "ipython3",
   "version": "3.7.1"
  }
 },
 "nbformat": 4,
 "nbformat_minor": 2
}
