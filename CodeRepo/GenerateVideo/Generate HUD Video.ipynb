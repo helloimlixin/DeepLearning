{
 "cells": [
  {
   "cell_type": "code",
   "execution_count": 23,
   "metadata": {},
   "outputs": [],
   "source": [
    "import cv2\n",
    "import numpy as np\n",
    "from cv2 import VideoWriter, VideoWriter_fourcc"
   ]
  },
  {
   "cell_type": "code",
   "execution_count": 24,
   "metadata": {},
   "outputs": [
    {
     "data": {
      "text/plain": [
       "True"
      ]
     },
     "execution_count": 24,
     "metadata": {},
     "output_type": "execute_result"
    }
   ],
   "source": [
    "# Create a light gray image\n",
    "frame = cv2.imread(filename='white_background.jpg')\n",
    "# print(frame.shape)\n",
    "overlay = cv2.imread(filename='car.png')\n",
    "overlay = cv2.resize(overlay,(240,300))\n",
    "# print(overlay.shape)\n",
    "x_offset=500\n",
    "y_offset=600\n",
    "frame[y_offset:y_offset+overlay.shape[0], x_offset:x_offset+overlay.shape[1]] = overlay\n",
    "cv2.imwrite(\"Generated_frame.png\", frame)\n",
    "# cv2.waitKey(0)\n",
    "# cv2.destroyAllWindows()"
   ]
  },
  {
   "cell_type": "code",
   "execution_count": 25,
   "metadata": {},
   "outputs": [],
   "source": [
    "# Initialize video parameters\n",
    "width = 1920\n",
    "height = 1080\n",
    "FPS = 2\n",
    "seconds = 15"
   ]
  },
  {
   "cell_type": "code",
   "execution_count": 26,
   "metadata": {},
   "outputs": [],
   "source": [
    "fourcc = VideoWriter_fourcc(*'MP42')\n",
    "video = VideoWriter('./HUD.mp4', fourcc, float(FPS), (width, height))\n",
    "for _ in range(FPS * seconds):\n",
    "    frame = cv2.imread(filename='white_background.jpg')\n",
    "    frame = cv2.resize(frame,(1920,1080))\n",
    "    # print(frame.shape)\n",
    "    overlay = cv2.imread(filename='car.png')\n",
    "    overlay = cv2.resize(overlay,(240,300))\n",
    "    # print(overlay.shape)\n",
    "    y_offset -= 20\n",
    "    frame[y_offset:y_offset+overlay.shape[0], x_offset:x_offset+overlay.shape[1]] = overlay\n",
    "    video.write(frame)\n",
    "video.release()"
   ]
  },
  {
   "cell_type": "code",
   "execution_count": null,
   "metadata": {},
   "outputs": [],
   "source": []
  }
 ],
 "metadata": {
  "kernelspec": {
   "display_name": "Python 3",
   "language": "python",
   "name": "python3"
  },
  "language_info": {
   "codemirror_mode": {
    "name": "ipython",
    "version": 3
   },
   "file_extension": ".py",
   "mimetype": "text/x-python",
   "name": "python",
   "nbconvert_exporter": "python",
   "pygments_lexer": "ipython3",
   "version": "3.7.1"
  }
 },
 "nbformat": 4,
 "nbformat_minor": 2
}
