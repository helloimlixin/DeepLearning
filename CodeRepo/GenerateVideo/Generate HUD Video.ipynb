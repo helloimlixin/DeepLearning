{
 "cells": [
  {
   "cell_type": "code",
   "execution_count": 1,
   "metadata": {},
   "outputs": [],
   "source": [
    "import cv2\n",
    "import numpy as np\n",
    "from cv2 import VideoWriter, VideoWriter_fourcc"
   ]
  },
  {
   "cell_type": "code",
   "execution_count": 2,
   "metadata": {},
   "outputs": [
    {
     "data": {
      "text/plain": [
       "True"
      ]
     },
     "execution_count": 2,
     "metadata": {},
     "output_type": "execute_result"
    }
   ],
   "source": [
    "frame = cv2.imread(filename='white_background.jpg')\n",
    "car = cv2.imread(filename='car.png')\n",
    "bus = cv2.imread(filename='bus.png')\n",
    "car2 = car\n",
    "x_offset_car = 450\n",
    "y_offset_car = 400\n",
    "x_offset_bus = 750\n",
    "y_offset_bus = 200\n",
    "x_offset_car2 = 150\n",
    "y_offset_car2 = 400\n",
    "frame[y_offset_car:y_offset_car+car.shape[0], x_offset_car:x_offset_car+car.shape[1]] = car\n",
    "frame[y_offset_bus:y_offset_bus+bus.shape[0], x_offset_bus:x_offset_bus+bus.shape[1]] = bus\n",
    "frame[y_offset_car2:y_offset_car2+car2.shape[0], x_offset_car2:x_offset_car2+car2.shape[1]] = car2\n",
    "cv2.imwrite(\"Generated_frame.png\", frame)"
   ]
  },
  {
   "cell_type": "code",
   "execution_count": 3,
   "metadata": {},
   "outputs": [],
   "source": [
    "# Initialize video parameters\n",
    "width = 1024\n",
    "height = 600\n",
    "FPS = 30\n",
    "seconds = 5\n",
    "initial_y_offset = 400\n",
    "in_frame = True\n",
    "boundary = 50"
   ]
  },
  {
   "cell_type": "code",
   "execution_count": 4,
   "metadata": {},
   "outputs": [],
   "source": [
    "fourcc = VideoWriter_fourcc(*'MP42')\n",
    "video = VideoWriter('./HUD.mp4', fourcc, float(FPS), (width, height))\n",
    "for _ in range(FPS * seconds):\n",
    "    frame.fill(255) # generate new white background\n",
    "    car = car\n",
    "    bus = bus\n",
    "    car2 = car2\n",
    "    if (y_offset_car > boundary and y_offset_bus > boundary and y_offset_car2 > boundary):\n",
    "        y_offset_car -= 6\n",
    "        frame[y_offset_car:y_offset_car+car.shape[0], x_offset_car:x_offset_car+car.shape[1]] = car\n",
    "        if (in_frame):\n",
    "            y_offset_bus -= 2\n",
    "            y_offset_car2 -= 4\n",
    "            frame[y_offset_bus:y_offset_bus+bus.shape[0], x_offset_bus:x_offset_bus+bus.shape[1]] = bus\n",
    "            frame[y_offset_car2:y_offset_car2+car2.shape[0], x_offset_car2:x_offset_car2+car2.shape[1]] = car2\n",
    "    elif (y_offset_car <= boundary):\n",
    "        y_offset_car = initial_y_offset\n",
    "        frame[y_offset_car:y_offset_car+car.shape[0], x_offset_car:x_offset_car+car.shape[1]] = car\n",
    "        in_frame = False\n",
    "    video.write(frame)\n",
    "video.release()"
   ]
  },
  {
   "cell_type": "code",
   "execution_count": 5,
   "metadata": {},
   "outputs": [],
   "source": [
    "'''\n",
    "Utility class for file conversion.\n",
    "'''\n",
    "import imageio\n",
    "import os, sys\n",
    "imageio.plugins.ffmpeg.download()\n",
    "\n",
    "class TargetFormat(object):\n",
    "    GIF = \".gif\"\n",
    "    MP4 = \".mp4\"\n",
    "    AVI = \".avi\"\n",
    "    \n",
    "def convert(input_path, target_format):\n",
    "    output_path = os.path.splitext(input_path)[0] + target_format\n",
    "    print(\"Converting\\r\\n\\t{0}\\r\\nto\\r\\n\\t{1}\".format(input_path, output_path))\n",
    "    reader = imageio.get_reader(input_path)\n",
    "    fps = reader.get_meta_data()['fps']\n",
    "    \n",
    "    writer = imageio.get_writer(output_path, fps=fps//2)\n",
    "    for i, frame in enumerate(reader):\n",
    "        if (i < 80):\n",
    "            sys.stdout.write(\"\\rframe {0}\".format(i))\n",
    "            sys.stdout.flush()\n",
    "            writer.append_data(frame)\n",
    "    print(\"\\r\\nFinalizing...\")\n",
    "    writer.close()\n",
    "    print(\"Done.\")"
   ]
  },
  {
   "cell_type": "code",
   "execution_count": 6,
   "metadata": {},
   "outputs": [
    {
     "name": "stdout",
     "output_type": "stream",
     "text": [
      "Converting\n",
      "\t./HUD.mp4\n",
      "to\n",
      "\t./HUD.gif\n",
      "frame 79\n",
      "Finalizing...\n",
      "Done.\n"
     ]
    }
   ],
   "source": [
    "# Generate GIF for README.md demo.\n",
    "convert(\"./HUD.mp4\", TargetFormat.GIF)"
   ]
  },
  {
   "cell_type": "code",
   "execution_count": null,
   "metadata": {},
   "outputs": [],
   "source": []
  }
 ],
 "metadata": {
  "kernelspec": {
   "display_name": "Python 3",
   "language": "python",
   "name": "python3"
  },
  "language_info": {
   "codemirror_mode": {
    "name": "ipython",
    "version": 3
   },
   "file_extension": ".py",
   "mimetype": "text/x-python",
   "name": "python",
   "nbconvert_exporter": "python",
   "pygments_lexer": "ipython3",
   "version": "3.7.1"
  }
 },
 "nbformat": 4,
 "nbformat_minor": 2
}
