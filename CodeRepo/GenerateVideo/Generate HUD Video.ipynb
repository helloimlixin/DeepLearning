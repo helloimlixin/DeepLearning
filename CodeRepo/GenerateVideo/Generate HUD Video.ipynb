{
 "cells": [
  {
   "cell_type": "code",
   "execution_count": 460,
   "metadata": {},
   "outputs": [],
   "source": [
    "import cv2\n",
    "import numpy as np\n",
    "from cv2 import VideoWriter, VideoWriter_fourcc"
   ]
  },
  {
   "cell_type": "code",
   "execution_count": 461,
   "metadata": {},
   "outputs": [
    {
     "data": {
      "text/plain": [
       "True"
      ]
     },
     "execution_count": 461,
     "metadata": {},
     "output_type": "execute_result"
    }
   ],
   "source": [
    "frame = cv2.imread(filename='white_background.jpg')\n",
    "car = cv2.imread(filename='car.png')\n",
    "car = cv2.resize(car,(100,200))\n",
    "bus = cv2.imread(filename='bus.png')\n",
    "bus = cv2.resize(bus,(180,350))\n",
    "car2 = cv2.imread(filename='car2.png')\n",
    "car2 = cv2.resize(car2,(100,200))\n",
    "x_offset_car = 450\n",
    "y_offset_car = 400\n",
    "x_offset_bus = 750\n",
    "y_offset_bus = 200\n",
    "x_offset_car2 = 150\n",
    "y_offset_car2 = 400\n",
    "frame[y_offset_car:y_offset_car+car.shape[0], x_offset_car:x_offset_car+car.shape[1]] = car\n",
    "frame[y_offset_bus:y_offset_bus+bus.shape[0], x_offset_bus:x_offset_bus+bus.shape[1]] = bus\n",
    "frame[y_offset_car2:y_offset_car2+car2.shape[0], x_offset_car2:x_offset_car2+car2.shape[1]] = car2\n",
    "cv2.imwrite(\"Generated_frame.png\", frame)"
   ]
  },
  {
   "cell_type": "code",
   "execution_count": 462,
   "metadata": {},
   "outputs": [],
   "source": [
    "# Initialize video parameters\n",
    "width = 1024\n",
    "height = 600\n",
    "FPS = 30\n",
    "seconds = 5\n",
    "initial_y_offset = 400\n",
    "in_frame = True\n",
    "boundary = 50"
   ]
  },
  {
   "cell_type": "code",
   "execution_count": 463,
   "metadata": {},
   "outputs": [],
   "source": [
    "fourcc = VideoWriter_fourcc(*'MP42')\n",
    "video = VideoWriter('./HUD.mp4', fourcc, float(FPS), (width, height))\n",
    "background = cv2.imread(filename='white_background.jpg')\n",
    "frame = background\n",
    "for _ in range(FPS * seconds):\n",
    "    frame.fill(255) # generate new white background\n",
    "    car = car\n",
    "    bus = bus\n",
    "    car2 = car2\n",
    "    if (y_offset_car > boundary and y_offset_bus > boundary and y_offset_car2 > boundary):\n",
    "        y_offset_car -= 6\n",
    "        frame[y_offset_car:y_offset_car+car.shape[0], x_offset_car:x_offset_car+car.shape[1]] = car\n",
    "        if (in_frame):\n",
    "            y_offset_bus -= 2\n",
    "            y_offset_car2 -= 4\n",
    "            frame[y_offset_bus:y_offset_bus+bus.shape[0], x_offset_bus:x_offset_bus+bus.shape[1]] = bus\n",
    "            frame[y_offset_car2:y_offset_car2+car2.shape[0], x_offset_car2:x_offset_car2+car2.shape[1]] = car2\n",
    "    elif (y_offset_car <= boundary):\n",
    "        y_offset_car = initial_y_offset\n",
    "        frame[y_offset_car:y_offset_car+car.shape[0], x_offset_car:x_offset_car+car.shape[1]] = car\n",
    "        in_frame = False\n",
    "    video.write(frame)\n",
    "video.release()"
   ]
  },
  {
   "cell_type": "code",
   "execution_count": 475,
   "metadata": {},
   "outputs": [
    {
     "name": "stdout",
     "output_type": "stream",
     "text": [
      "Imageio: 'ffmpeg-osx-v3.2.4' was not found on your computer; downloading it now.\n",
      "Try 1. Download from https://github.com/imageio/imageio-binaries/raw/master/ffmpeg/ffmpeg-osx-v3.2.4 (33.8 MB)\n",
      "Downloading: 8192/35458856 bytes (0.0114688/35458856 bytes (0.3360448/35458856 bytes (1.0507904/35458856 bytes (1.4761856/35458856 bytes (2.1770048/35458856 bytes (2.21097728/35458856 bytes (3.1%1179648/35458856 bytes (3.3%1474560/35458856 bytes (4.2%1703936/35458856 bytes (4.8%2260992/35458856 bytes (6.4%2818048/35458856 bytes (7.9%3399680/35458856 bytes (9.6%3735552/35458856 bytes (10.54210688/35458856 bytes (11.94562944/35458856 bytes (12.94603904/35458856 bytes (13.04669440/35458856 bytes (13.25423104/35458856 bytes (15.35701632/35458856 bytes (16.15832704/35458856 bytes (16.46045696/35458856 bytes (17.06537216/35458856 bytes (18.46733824/35458856 bytes (19.07143424/35458856 bytes (20.17241728/35458856 bytes (20.47798784/35458856 bytes (22.07864320/35458856 bytes (22.28093696/35458856 bytes (22.88503296/35458856 bytes (24.08683520/35458856 bytes (24.58847360/35458856 bytes (25.09437184/35458856 bytes (26.69584640/35458856 bytes (27.09797632/35458856 bytes (27.69879552/35458856 bytes (27.910469376/35458856 bytes (29.5%10780672/35458856 bytes (30.4%11042816/35458856 bytes (31.1%11288576/35458856 bytes (31.8%11304960/35458856 bytes (31.9%11567104/35458856 bytes (32.6%12681216/35458856 bytes (35.8%12861440/35458856 bytes (36.3%13074432/35458856 bytes (36.9%13271040/35458856 bytes (37.4%13385728/35458856 bytes (37.8%13713408/35458856 bytes (38.7%13959168/35458856 bytes (39.4%14123008/35458856 bytes (39.8%14352384/35458856 bytes (40.5%14401536/35458856 bytes (40.6%14450688/35458856 bytes (40.8%14696448/35458856 bytes (41.4%14925824/35458856 bytes (42.1%15089664/35458856 bytes (42.6%15155200/35458856 bytes (42.7%15450112/35458856 bytes (43.6%15581184/35458856 bytes (43.9%15613952/35458856 bytes (44.0%15712256/35458856 bytes (44.3%15958016/35458856 bytes (45.0%16187392/35458856 bytes (45.7%16318464/35458856 bytes (46.0%16367616/35458856 bytes (46.2%16498688/35458856 bytes (46.5%16564224/35458856 bytes (46.7%16580608/35458856 bytes (46.8%16793600/35458856 bytes (47.4%16859136/35458856 bytes (47.5%17022976/35458856 bytes (48.0%17137664/35458856 bytes (48.3%17285120/35458856 bytes (48.7%17375232/35458856 bytes (49.0%17514496/35458856 bytes (49.4%17629184/35458856 bytes (49.7%17825792/35458856 bytes (50.3%17874944/35458856 bytes (50.4%18137088/35458856 bytes (51.1%18202624/35458856 bytes (51.3%18530304/35458856 bytes (52.3%18563072/35458856 bytes (52.4%18677760/35458856 bytes (52.7%18759680/35458856 bytes (52.9%18890752/35458856 bytes (53.3%19005440/35458856 bytes (53.6%19070976/35458856 bytes (53.8%19251200/35458856 bytes (54.3%19283968/35458856 bytes (54.4%19316736/35458856 bytes (54.5%19398656/35458856 bytes (54.7%19628032/35458856 bytes (55.4%19709952/35458856 bytes (55.6%19988480/35458856 bytes (56.4%20135936/35458856 bytes (56.8%20201472/35458856 bytes (57.0%20594688/35458856 bytes (58.1%20660224/35458856 bytes (58.3%20840448/35458856 bytes (58.8%20922368/35458856 bytes (59.0%21037056/35458856 bytes (59.3%21315584/35458856 bytes (60.1%21463040/35458856 bytes (60.5%21544960/35458856 bytes (60.8%21676032/35458856 bytes (61.1%21823488/35458856 bytes (61.5%22331392/35458856 bytes (63.0%22609920/35458856 bytes (63.8%22937600/35458856 bytes (64.7%23183360/35458856 bytes (65.4%23511040/35458856 bytes (66.3%23969792/35458856 bytes (67.6%24166400/35458856 bytes (68.2%24690688/35458856 bytes (69.6%24961024/35458856 bytes (70.4%25231360/35458856 bytes (71.2%25624576/35458856 bytes (72.3%25886720/35458856 bytes (73.0%26198016/35458856 bytes (73.9%26509312/35458856 bytes (74.8%26722304/35458856 bytes (75.4%26918912/35458856 bytes (75.9%27279360/35458856 bytes (76.9%27525120/35458856 bytes (77.6%27820032/35458856 bytes (78.5%28213248/35458856 bytes (79.6%28229632/35458856 bytes (79.6%28524544/35458856 bytes (80.4%28655616/35458856 bytes (80.8%28753920/35458856 bytes (81.1%29130752/35458856 bytes (82.2%29384704/35458856 bytes (82.9%29392896/35458856 bytes (82.9%29687808/35458856 bytes (83.7%29868032/35458856 bytes (84.2%30162944/35458856 bytes (85.1%30375936/35458856 bytes (85.7%30474240/35458856 bytes (85.9%30769152/35458856 bytes (86.8%30949376/35458856 bytes (87.3%31145984/35458856 bytes (87.8%31195136/35458856 bytes (88.0%31375360/35458856 bytes (88.5%31637504/35458856 bytes (89.2%31719424/35458856 bytes (89.5%32309248/35458856 bytes (91.1%32473088/35458856 bytes (91.6%32866304/35458856 bytes (92.7%33128448/35458856 bytes (93.4%33398784/35458856 bytes (94.2%33701888/35458856 bytes (95.0%33751040/35458856 bytes (95.2%33800192/35458856 bytes (95.3%33988608/35458856 bytes (95.9%34521088/35458856 bytes (97.4%34865152/35458856 bytes (98.3%35127296/35458856 bytes (99.1%35241984/35458856 bytes (99.4%35458856/35458856 bytes (100.0%)\n",
      "  Done\n",
      "File saved as /Users/xinli/Library/Application Support/imageio/ffmpeg/ffmpeg-osx-v3.2.4.\n"
     ]
    }
   ],
   "source": [
    "'''\n",
    "Utility class for file conversion.\n",
    "'''\n",
    "import imageio\n",
    "import os, sys\n",
    "imageio.plugins.ffmpeg.download()\n",
    "\n",
    "class TargetFormat(object):\n",
    "    GIF = \".gif\"\n",
    "    MP4 = \".mp4\"\n",
    "    AVI = \".avi\"\n",
    "    \n",
    "def convert(input_path, target_format):\n",
    "    output_path = os.path.splitext(input_path)[0] + target_format\n",
    "    print(\"Converting\\r\\n\\t{0}\\r\\nto\\r\\n\\t{1}\".format(input_path, output_path))\n",
    "    reader = imageio.get_reader(input_path)\n",
    "    fps = reader.get_meta_data()['fps']\n",
    "    \n",
    "    writer = imageio.get_writer(output_path, fps=fps)\n",
    "    for i, frame in enumerate(reader):\n",
    "        sys.stdout.write(\"\\rframe {0}\".format(i))\n",
    "        sys.stdout.flush()\n",
    "        writer.append_data(frame)\n",
    "    print(\"\\r\\nFinalizing...\")\n",
    "    writer.close()\n",
    "    print(\"Done.\")"
   ]
  },
  {
   "cell_type": "code",
   "execution_count": 476,
   "metadata": {},
   "outputs": [
    {
     "name": "stdout",
     "output_type": "stream",
     "text": [
      "Converting\n",
      "\t./HUD.mp4\n",
      "to\n",
      "\t./HUD.gif\n",
      "frame 149\n",
      "Finalizing...\n",
      "Done.\n"
     ]
    }
   ],
   "source": [
    "convert(\"./HUD.mp4\", TargetFormat.GIF)"
   ]
  },
  {
   "cell_type": "code",
   "execution_count": null,
   "metadata": {},
   "outputs": [],
   "source": []
  }
 ],
 "metadata": {
  "kernelspec": {
   "display_name": "Python 3",
   "language": "python",
   "name": "python3"
  },
  "language_info": {
   "codemirror_mode": {
    "name": "ipython",
    "version": 3
   },
   "file_extension": ".py",
   "mimetype": "text/x-python",
   "name": "python",
   "nbconvert_exporter": "python",
   "pygments_lexer": "ipython3",
   "version": "3.7.1"
  }
 },
 "nbformat": 4,
 "nbformat_minor": 2
}
