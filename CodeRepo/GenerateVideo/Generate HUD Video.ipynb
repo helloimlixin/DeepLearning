{
 "cells": [
  {
   "cell_type": "code",
   "execution_count": 118,
   "metadata": {},
   "outputs": [],
   "source": [
    "import cv2\n",
    "import numpy as np\n",
    "from cv2 import VideoWriter, VideoWriter_fourcc"
   ]
  },
  {
   "cell_type": "code",
   "execution_count": 119,
   "metadata": {},
   "outputs": [
    {
     "data": {
      "text/plain": [
       "True"
      ]
     },
     "execution_count": 119,
     "metadata": {},
     "output_type": "execute_result"
    }
   ],
   "source": [
    "# Create a light gray image\n",
    "frame = cv2.imread(filename='white_background.jpg')\n",
    "car = cv2.imread(filename='car.png')\n",
    "car = cv2.resize(car,(240,300))\n",
    "bus = cv2.imread(filename='bus.png')\n",
    "bus = cv2.resize(bus,(220,380))\n",
    "car2 = cv2.imread(filename='car2.png')\n",
    "car2 = cv2.resize(car2,(180,300))\n",
    "x_offset_car = 900\n",
    "y_offset_car = 700\n",
    "x_offset_bus = 1200\n",
    "y_offset_bus = 600\n",
    "x_offset_car2 = 600\n",
    "y_offset_car2 = 700\n",
    "frame[y_offset_car:y_offset_car+car.shape[0], x_offset_car:x_offset_car+car.shape[1]] = car\n",
    "frame[y_offset_bus:y_offset_bus+bus.shape[0], x_offset_bus:x_offset_bus+bus.shape[1]] = bus\n",
    "frame[y_offset_car2:y_offset_car2+car2.shape[0], x_offset_car2:x_offset_car2+car2.shape[1]] = car2\n",
    "cv2.imwrite(\"Generated_frame.png\", frame)\n",
    "# cv2.waitKey(0)\n",
    "# cv2.destroyAllWindows()"
   ]
  },
  {
   "cell_type": "code",
   "execution_count": 120,
   "metadata": {},
   "outputs": [],
   "source": [
    "# Initialize video parameters\n",
    "width = 1920\n",
    "height = 1080\n",
    "FPS = 24\n",
    "seconds = 8"
   ]
  },
  {
   "cell_type": "code",
   "execution_count": null,
   "metadata": {},
   "outputs": [],
   "source": [
    "fourcc = VideoWriter_fourcc(*'MP42')\n",
    "video = VideoWriter('./HUD.mp4', fourcc, float(FPS), (width, height))\n",
    "for _ in range(FPS * seconds):\n",
    "    frame = cv2.imread(filename='white_background.jpg')\n",
    "    frame = cv2.resize(frame,(1920,1080))\n",
    "    car = cv2.imread(filename='car.png')\n",
    "    car = cv2.resize(car,(240,300))\n",
    "    bus = cv2.imread(filename='bus.png')\n",
    "    bus = cv2.resize(bus,(220,380))\n",
    "    car2 = cv2.imread(filename='car2.png')\n",
    "    car2 = cv2.resize(car2,(180,300))\n",
    "    y_offset_car -= 3\n",
    "    y_offset_bus -= 1\n",
    "    y_offset_car2 -= 2\n",
    "    frame[y_offset_car:y_offset_car+car.shape[0], x_offset_car:x_offset_car+car.shape[1]] = car\n",
    "    frame[y_offset_bus:y_offset_bus+bus.shape[0], x_offset_bus:x_offset_bus+bus.shape[1]] = bus\n",
    "    frame[y_offset_car2:y_offset_car2+car2.shape[0], x_offset_car2:x_offset_car2+car2.shape[1]] = car2\n",
    "    video.write(frame)\n",
    "video.release()"
   ]
  },
  {
   "cell_type": "code",
   "execution_count": null,
   "metadata": {},
   "outputs": [],
   "source": []
  }
 ],
 "metadata": {
  "kernelspec": {
   "display_name": "Python 3",
   "language": "python",
   "name": "python3"
  },
  "language_info": {
   "codemirror_mode": {
    "name": "ipython",
    "version": 3
   },
   "file_extension": ".py",
   "mimetype": "text/x-python",
   "name": "python",
   "nbconvert_exporter": "python",
   "pygments_lexer": "ipython3",
   "version": "3.7.1"
  }
 },
 "nbformat": 4,
 "nbformat_minor": 2
}
