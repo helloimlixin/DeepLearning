{
 "cells": [
  {
   "cell_type": "markdown",
   "metadata": {},
   "source": [
    "# Learning XOR\n",
    "\n",
    "The XOR function (\"exclusive or\") is an operation on two binary values, $x_1$ and $x_2$. When EXACTLY one of these binary values is equal to 1, the XOR function returns 1. Otherwise it returns 0. The XOR function provides the **target function** $y = f^*(\\bf{x})$ that we want to learn. Our model provides a function $y = f(\\bf{x}; \\bf{\\theta})$, and our learning algorithm will *adapt* the parameters $\\bf{\\theta})$ to make $f$ as similar as possible to $f^*$.\n",
    "\n",
    "In this simple example we will not consider the statistical generalization and we want our network to perform correctly on only the four input points $\\mathbb{X} = \\{[0,0]^T, [0,1]^T, [1,0]^T, [1,1]^T\\}$, we will train the network on all these four points, and the only challenge is to fit the training set."
   ]
  },
  {
   "cell_type": "code",
   "execution_count": 1,
   "metadata": {},
   "outputs": [],
   "source": [
    "import numpy as np\n",
    "import matplotlib.pyplot as plt"
   ]
  },
  {
   "cell_type": "code",
   "execution_count": 2,
   "metadata": {},
   "outputs": [],
   "source": [
    "X = np.array([[0,0], [0,1], [1,0], [1,1]])\n",
    "f_ast = np.array([[0], [1], [1], [0]])"
   ]
  },
  {
   "cell_type": "markdown",
   "metadata": {},
   "source": [
    "Here we design a simple feedforward neural network with only one hidden layer consisting of two hidden units."
   ]
  },
  {
   "cell_type": "code",
   "execution_count": 3,
   "metadata": {},
   "outputs": [],
   "source": [
    "# Define neural network structure.\n",
    "INPUT, HIDDEN1, OUTPUT = 2, 2, 1"
   ]
  },
  {
   "cell_type": "code",
   "execution_count": 4,
   "metadata": {},
   "outputs": [
    {
     "name": "stdout",
     "output_type": "stream",
     "text": [
      "Initial Hidden Layer Weights: [0.43236275 0.11498529] [0.38740017 0.55223174]\n",
      "Initial Hidden Layer Bias: [0.34192521 0.6753842 ]\n",
      "Initial Output Layer Weights: [0.85802904] [0.88151134]\n"
     ]
    }
   ],
   "source": [
    "# Neural Network Initializations Using Uniform Distribution.\n",
    "# Hidden Layer Weights.\n",
    "W1 = np.random.uniform(size = (INPUT, HIDDEN1))\n",
    "# Hidden Layer Bias.\n",
    "c1 = np.random.uniform(size = (1, HIDDEN1))\n",
    "# Output Layer Weights.\n",
    "w = np.random.uniform(size = (HIDDEN1, OUTPUT))\n",
    "\n",
    "print(\"Initial Hidden Layer Weights: \",end=\"\")\n",
    "print(*W1)\n",
    "print(\"Initial Hidden Layer Bias: \",end=\"\")\n",
    "print(*c1)\n",
    "print(\"Initial Output Layer Weights: \",end=\"\")\n",
    "print(*w)"
   ]
  },
  {
   "cell_type": "markdown",
   "metadata": {},
   "source": [
    "## Training Using ReLU Activation Function\n",
    "Here, we use the Rectified Linear Unit (ReLU) as the activation function."
   ]
  },
  {
   "cell_type": "code",
   "execution_count": 13,
   "metadata": {},
   "outputs": [],
   "source": [
    "def ReLU_forward(x):\n",
    "    \"\"\"\n",
    "    Computes the forward pass for ReLU Activation.\n",
    "    Input:\n",
    "    - x: nputs, of any shape.\n",
    "    \n",
    "    Returns a tuple of (output, cache).\n",
    "    \"\"\"\n",
    "    \n",
    "    return x * (x > 0).astype(float), x"
   ]
  },
  {
   "cell_type": "code",
   "execution_count": 14,
   "metadata": {},
   "outputs": [
    {
     "name": "stdout",
     "output_type": "stream",
     "text": [
      "Hidden Layer Output: [0.03139985 0.03541044] [ 4.43556312 -0.        ] [-0.         4.3710324] [ 0.03363415 -0.        ]\n",
      "Output: [0.01517813] [0.99983627] [0.99987848] [0.0075816]\n"
     ]
    }
   ],
   "source": [
    "# Compute Hidden Layer Activation h = g(XW + c), where g is the ReLU Activation Function.\n",
    "g1 = np.dot(X, W1)\n",
    "g1 += c1\n",
    "h1, x_hidden1 = ReLU_forward(g1)\n",
    "print (\"Hidden Layer Output: \", end=\"\")\n",
    "print(*h1)\n",
    "\n",
    "# Compute Output Layer Activation.\n",
    "f = np.dot(h1, w)\n",
    "print(\"Output: \", end=\"\")\n",
    "print(*f)"
   ]
  },
  {
   "cell_type": "markdown",
   "metadata": {},
   "source": [
    "Backward Pss Using Gradient Descent."
   ]
  },
  {
   "cell_type": "code",
   "execution_count": 15,
   "metadata": {},
   "outputs": [],
   "source": [
    "def ReLU_backward(delta, x_previous):\n",
    "    \"\"\"\n",
    "    Computes the backward pass for ReLU Activation.\n",
    "    Input:\n",
    "    - delta: derivatives coming from back propagation.\n",
    "    \n",
    "    Returns:\n",
    "    - dx: gradient with respect to x.\n",
    "    \"\"\"\n",
    "    \n",
    "    return delta * (x_previous >= 0)"
   ]
  },
  {
   "cell_type": "code",
   "execution_count": 16,
   "metadata": {},
   "outputs": [],
   "source": [
    "# Back Propagation.\n",
    "error = f_ast - f\n",
    "df = error\n",
    "error_hidden1 = df.dot(w.T)\n",
    "dHidden1 = error_hidden1 * ReLU_backward(h1, x_hidden1)"
   ]
  },
  {
   "cell_type": "code",
   "execution_count": 17,
   "metadata": {},
   "outputs": [],
   "source": [
    "# Updating Weights and Biases.\n",
    "alpha = 0.1 # learning rate\n",
    "w += h1.T.dot(df) * alpha\n",
    "W1 += X.T.dot(dHidden1) * alpha\n",
    "c1 += np.sum(dHidden1, axis=0, keepdims=True) * alpha"
   ]
  },
  {
   "cell_type": "markdown",
   "metadata": {},
   "source": [
    "Performance Measure: Mean Squared Error"
   ]
  },
  {
   "cell_type": "code",
   "execution_count": 18,
   "metadata": {},
   "outputs": [],
   "source": [
    "def computeMSE(y, y_ast):\n",
    "    return (np.square(y_ast - y)).mean(axis=0)"
   ]
  },
  {
   "cell_type": "markdown",
   "metadata": {},
   "source": [
    "Complete Code:"
   ]
  },
  {
   "cell_type": "code",
   "execution_count": 19,
   "metadata": {},
   "outputs": [
    {
     "name": "stdout",
     "output_type": "stream",
     "text": [
      "Initial Hidden Layer Weights: [0.0446206  0.23911628] [0.1541443  0.99451726]\n",
      "Initial Hidden Layer Bias: [0.64814822 0.36153094]\n",
      "Initial Output Layer Weights: [0.96319415] [0.38580146]\n",
      "Final hidden weights: [ 4.35728871 -4.36146073] [-4.38061231  4.34144877]\n",
      "Final hidden bias: [0.03119036 0.03548225]\n",
      "Final output weights: [0.22778578] [0.22843609]\n",
      "\n",
      "Output from neural network after 10,000 epochs: [0.01522005] [0.99986979] [1.00014098] [0.0053346]\n",
      "Final Mean Squared Error: 6.503618319343245e-05\n"
     ]
    },
    {
     "data": {
      "image/png": "[encoded data removed]",
      "text/plain": [
       "<Figure size 432x288 with 1 Axes>"
      ]
     },
     "metadata": {
      "needs_background": "light"
     },
     "output_type": "display_data"
    }
   ],
   "source": [
    "import numpy as np \n",
    "# np.random.seed(0)\n",
    "\n",
    "def ReLU_forward(x):\n",
    "    \"\"\"\n",
    "    Computes the forward pass for ReLU Activation.\n",
    "    Input:\n",
    "    - x: nputs, of any shape.\n",
    "    \n",
    "    Returns a tuple of (output, cache).\n",
    "    \"\"\"\n",
    "    \n",
    "    return x * (x > 0), x\n",
    "\n",
    "def ReLU_backward(delta, x_previous):\n",
    "    \"\"\"\n",
    "    Computes the backward pass for ReLU Activation.\n",
    "    Input:\n",
    "    - delta: derivatives coming from back propagation.\n",
    "    \n",
    "    Returns:\n",
    "    - dx: gradient with respect to x.\n",
    "    \"\"\"\n",
    "    \n",
    "    return delta * (x_previous >= 0)\n",
    "\n",
    "# Define neural network structure.\n",
    "INPUT, HIDDEN1, OUTPUT = 2, 2, 1\n",
    "\n",
    "# Input datasets and ground truths.\n",
    "X = np.array([[0,0], [0,1], [1,0], [1,1]])\n",
    "f_ast = np.array([[0], [1], [1], [0]])\n",
    "\n",
    "# Neural Network Initializations Using Uniform Distribution.\n",
    "# Hidden Layer Weights.\n",
    "W1 = np.random.uniform(size = (INPUT, HIDDEN1))\n",
    "# Hidden Layer Bias.\n",
    "c1 = np.random.uniform(size = (1, HIDDEN1))\n",
    "# Output Layer Weights.\n",
    "w = np.random.uniform(size = (HIDDEN1, OUTPUT))\n",
    "\n",
    "print(\"Initial Hidden Layer Weights: \",end=\"\")\n",
    "print(*W1)\n",
    "print(\"Initial Hidden Layer Bias: \",end=\"\")\n",
    "print(*c1)\n",
    "print(\"Initial Output Layer Weights: \",end=\"\")\n",
    "print(*w)\n",
    "\n",
    "# Define learning rate and number of training epochs.\n",
    "epochs = 10000\n",
    "alpha = 0.1\n",
    "MSE = np.zeros(epochs)\n",
    "\n",
    "#Training algorithm\n",
    "for i in range(epochs):\n",
    "\t# Forward Propagation\n",
    "    g1 = np.dot(X, W1)\n",
    "    g1 += c1\n",
    "    h1, x_hidden1 = ReLU_forward(g1)\n",
    "#     print (\"Hidden Layer Output: \", end=\"\")\n",
    "#     print(*h1)\n",
    "\n",
    "    # Compute Output Layer Activation.\n",
    "    f = np.dot(h1, w)\n",
    "#     print(\"Output: \", end=\"\")\n",
    "#     print(*f)\n",
    "\n",
    "\t# Back Propagation.\n",
    "    error = f_ast - f\n",
    "    df = error\n",
    "    error_hidden1 = df.dot(w.T)\n",
    "    dHidden1 = error_hidden1 * ReLU_backward(h1, x_hidden1)\n",
    "    \n",
    "\t# Update Weights and Biases\n",
    "    w += h1.T.dot(df) * alpha\n",
    "    W1 += X.T.dot(dHidden1) * alpha\n",
    "    c1 += np.sum(dHidden1, axis=0, keepdims=True) * alpha\n",
    "    \n",
    "    MSE[i] = computeMSE(f, f_ast)\n",
    "\n",
    "print(\"Final hidden weights: \",end='')\n",
    "print(*W1)\n",
    "print(\"Final hidden bias: \",end='')\n",
    "print(*c1)\n",
    "print(\"Final output weights: \",end='')\n",
    "print(*w)\n",
    "\n",
    "print(\"\\nOutput from neural network after 10,000 epochs: \",end='')\n",
    "print(*f)\n",
    "print(\"Final Mean Squared Error: \", end=\"\")\n",
    "print(*computeMSE(f, f_ast))\n",
    "plt.plot(MSE)\n",
    "plt.ylabel(\"Mean Squared Errors\")\n",
    "plt.xlabel(\"Epochs\")\n",
    "plt.show()"
   ]
  },
  {
   "cell_type": "markdown",
   "metadata": {},
   "source": [
    "## Training Using Sigmoid Activation"
   ]
  },
  {
   "cell_type": "code",
   "execution_count": 20,
   "metadata": {},
   "outputs": [
    {
     "name": "stdout",
     "output_type": "stream",
     "text": [
      "Initial hidden weights: [0.95096503 0.67771134] [0.98435895 0.66649297]\n",
      "Initial hidden biases: [0.93251948 0.41730322]\n",
      "Initial output weights: [0.24930132] [0.03183026]\n",
      "Initial output biases: [0.53087294]\n",
      "Final hidden weights: [5.81451965 3.73643673] [5.81297787 3.73612123]\n",
      "Final hidden bias: [-2.43447799 -5.72355841]\n",
      "Final output weights: [7.55644289] [-8.20318427]\n",
      "Final output bias: [-3.40429686]\n",
      "\n",
      "Output from neural network after 10,000 epochs: [0.05614592] [0.948542] [0.94854672] [0.05539883]\n",
      "Mean Squared Error: 0.0028791901966074033\n"
     ]
    },
    {
     "data": {
      "image/png": "[encoded data removed]",
      "text/plain": [
       "<Figure size 432x288 with 1 Axes>"
      ]
     },
     "metadata": {
      "needs_background": "light"
     },
     "output_type": "display_data"
    }
   ],
   "source": [
    "import numpy as np\n",
    "#np.random.seed(0)\n",
    "\n",
    "def sigmoid (x):\n",
    "    return 1/(1 + np.exp(-x))\n",
    "\n",
    "def sigmoid_derivative(x):\n",
    "    return x * (1 - x)\n",
    "\n",
    "#Input datasets\n",
    "inputs = np.array([[0,0],[0,1],[1,0],[1,1]])\n",
    "expected_output = np.array([[0],[1],[1],[0]])\n",
    "\n",
    "epochs = 10000\n",
    "lr = 0.1\n",
    "MSE = np.zeros(epochs)\n",
    "inputLayerNeurons, hiddenLayerNeurons, outputLayerNeurons = 2,2,1\n",
    "\n",
    "#Random weights and bias initialization\n",
    "hidden_weights = np.random.uniform(size=(inputLayerNeurons,hiddenLayerNeurons))\n",
    "hidden_bias =np.random.uniform(size=(1,hiddenLayerNeurons))\n",
    "output_weights = np.random.uniform(size=(hiddenLayerNeurons,outputLayerNeurons))\n",
    "output_bias = np.random.uniform(size=(1,outputLayerNeurons))\n",
    "\n",
    "print(\"Initial hidden weights: \",end='')\n",
    "print(*hidden_weights)\n",
    "print(\"Initial hidden biases: \",end='')\n",
    "print(*hidden_bias)\n",
    "print(\"Initial output weights: \",end='')\n",
    "print(*output_weights)\n",
    "print(\"Initial output biases: \",end='')\n",
    "print(*output_bias)\n",
    "\n",
    "\n",
    "#Training algorithm\n",
    "for i in range(epochs):\n",
    "    #Forward Propagation\n",
    "    hidden_layer_activation = np.dot(inputs,hidden_weights)\n",
    "    hidden_layer_activation += hidden_bias\n",
    "    hidden_layer_output = sigmoid(hidden_layer_activation)\n",
    "\n",
    "    output_layer_activation = np.dot(hidden_layer_output,output_weights)\n",
    "    output_layer_activation += output_bias\n",
    "    predicted_output = sigmoid(output_layer_activation)\n",
    "\n",
    "    #Backpropagation\n",
    "    error = expected_output - predicted_output\n",
    "    d_predicted_output = error * sigmoid_derivative(predicted_output)\n",
    "\n",
    "    error_hidden_layer = d_predicted_output.dot(output_weights.T)\n",
    "    d_hidden_layer = error_hidden_layer * sigmoid_derivative(hidden_layer_output)\n",
    "\n",
    "    #Updating Weights and Biases\n",
    "    output_weights += hidden_layer_output.T.dot(d_predicted_output) * lr\n",
    "    output_bias += np.sum(d_predicted_output,axis=0,keepdims=True) * lr\n",
    "    hidden_weights += inputs.T.dot(d_hidden_layer) * lr\n",
    "    hidden_bias += np.sum(d_hidden_layer,axis=0,keepdims=True) * lr\n",
    "    MSE[i] = computeMSE(predicted_output, expected_output)\n",
    "\n",
    "print(\"Final hidden weights: \",end='')\n",
    "print(*hidden_weights)\n",
    "print(\"Final hidden bias: \",end='')\n",
    "print(*hidden_bias)\n",
    "print(\"Final output weights: \",end='')\n",
    "print(*output_weights)\n",
    "print(\"Final output bias: \",end='')\n",
    "print(*output_bias)\n",
    "\n",
    "print(\"\\nOutput from neural network after 10,000 epochs: \",end='')\n",
    "print(*predicted_output)\n",
    "print(\"Mean Squared Error: \", end=\"\")\n",
    "print(*computeMSE(predicted_output, expected_output))\n",
    "plt.plot(MSE)\n",
    "plt.ylabel(\"Mean Squared Errors\")\n",
    "plt.xlabel(\"Epochs\")\n",
    "plt.show()"
   ]
  },
  {
   "cell_type": "code",
   "execution_count": null,
   "metadata": {},
   "outputs": [],
   "source": []
  }
 ],
 "metadata": {
  "kernelspec": {
   "display_name": "Python 3",
   "language": "python",
   "name": "python3"
  },
  "language_info": {
   "codemirror_mode": {
    "name": "ipython",
    "version": 3
   },
   "file_extension": ".py",
   "mimetype": "text/x-python",
   "name": "python",
   "nbconvert_exporter": "python",
   "pygments_lexer": "ipython3",
   "version": "3.7.1"
  }
 },
 "nbformat": 4,
 "nbformat_minor": 2
}
